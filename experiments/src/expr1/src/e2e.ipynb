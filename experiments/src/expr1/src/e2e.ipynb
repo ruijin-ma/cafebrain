{
 "cells": [
  {
   "cell_type": "code",
   "execution_count": 2,
   "metadata": {},
   "outputs": [],
   "source": [
    "import mlflow\n",
    "\n",
    "import numpy as np\n",
    "from sklearn import datasets, metrics\n",
    "from sklearn.linear_model import ElasticNet\n",
    "from sklearn.model_selection import train_test_split\n",
    "\n",
    "\n",
    "def eval_metrics(pred, actual):\n",
    "    rmse = np.sqrt(metrics.mean_squared_error(actual, pred))\n",
    "    mae = metrics.mean_absolute_error(actual, pred)\n",
    "    r2 = metrics.r2_score(actual, pred)\n",
    "    return rmse, mae, r2\n",
    "\n",
    "\n",
    "# Set th experiment name\n",
    "mlflow.set_experiment(\"wine-quality\")\n",
    "\n",
    "# Enable auto-logging to MLflow\n",
    "mlflow.sklearn.autolog()\n",
    "\n",
    "# Load wine quality dataset\n",
    "X, y = datasets.load_wine(return_X_y=True)\n",
    "X_train, X_test, y_train, y_test = train_test_split(X, y, test_size=0.25)\n",
    "\n",
    "# Start a run and train a model\n",
    "with mlflow.start_run(run_name=\"default-params\"):\n",
    "    lr = ElasticNet()\n",
    "    lr.fit(X_train, y_train)\n",
    "\n",
    "    y_pred = lr.predict(X_test)\n",
    "    metrics = eval_metrics(y_pred, y_test)\n",
    "    \n"
   ]
  },
  {
   "cell_type": "code",
   "execution_count": 3,
   "metadata": {},
   "outputs": [
    {
     "name": "stderr",
     "output_type": "stream",
     "text": [
      "2025/03/11 10:47:00 INFO mlflow.sklearn.utils: Logging the 5 best runs, 95 runs will be omitted.\n"
     ]
    },
    {
     "ename": "AttributeError",
     "evalue": "'tuple' object has no attribute 'mean_squared_error'",
     "output_type": "error",
     "traceback": [
      "\u001b[31m---------------------------------------------------------------------------\u001b[39m",
      "\u001b[31mAttributeError\u001b[39m                            Traceback (most recent call last)",
      "\u001b[36mCell\u001b[39m\u001b[36m \u001b[39m\u001b[32mIn[3]\u001b[39m\u001b[32m, line 30\u001b[39m\n\u001b[32m     28\u001b[39m \u001b[38;5;66;03m# Evaluate the best model on test dataset\u001b[39;00m\n\u001b[32m     29\u001b[39m y_pred = clf.best_estimator_.predict(X_test)\n\u001b[32m---> \u001b[39m\u001b[32m30\u001b[39m rmse, mae, r2 = \u001b[43meval_metrics\u001b[49m\u001b[43m(\u001b[49m\u001b[43my_pred\u001b[49m\u001b[43m,\u001b[49m\u001b[43m \u001b[49m\u001b[43my_test\u001b[49m\u001b[43m)\u001b[49m\n\u001b[32m     31\u001b[39m mlflow.log_metrics(\n\u001b[32m     32\u001b[39m     {\n\u001b[32m     33\u001b[39m         \u001b[33m\"\u001b[39m\u001b[33mmean_squared_error_X_test\u001b[39m\u001b[33m\"\u001b[39m: rmse,\n\u001b[32m   (...)\u001b[39m\u001b[32m     36\u001b[39m     }\n\u001b[32m     37\u001b[39m )\n",
      "\u001b[36mCell\u001b[39m\u001b[36m \u001b[39m\u001b[32mIn[1]\u001b[39m\u001b[32m, line 10\u001b[39m, in \u001b[36meval_metrics\u001b[39m\u001b[34m(pred, actual)\u001b[39m\n\u001b[32m      9\u001b[39m \u001b[38;5;28;01mdef\u001b[39;00m\u001b[38;5;250m \u001b[39m\u001b[34meval_metrics\u001b[39m(pred, actual):\n\u001b[32m---> \u001b[39m\u001b[32m10\u001b[39m     rmse = np.sqrt(\u001b[43mmetrics\u001b[49m\u001b[43m.\u001b[49m\u001b[43mmean_squared_error\u001b[49m(actual, pred))\n\u001b[32m     11\u001b[39m     mae = metrics.mean_absolute_error(actual, pred)\n\u001b[32m     12\u001b[39m     r2 = metrics.r2_score(actual, pred)\n",
      "\u001b[31mAttributeError\u001b[39m: 'tuple' object has no attribute 'mean_squared_error'"
     ]
    }
   ],
   "source": [
    "from scipy.stats import uniform\n",
    "from sklearn.model_selection import RandomizedSearchCV\n",
    "\n",
    "lr = ElasticNet()\n",
    "\n",
    "# Define distribution to pick parameter values from\n",
    "distributions = dict(\n",
    "    alpha=uniform(loc=0, scale=10),  # sample alpha uniformly from [-5.0, 5.0]\n",
    "    l1_ratio=uniform(),  # sample l1_ratio uniformlyfrom [0, 1.0]\n",
    ")\n",
    "\n",
    "# Initialize random search instance\n",
    "clf = RandomizedSearchCV(\n",
    "    estimator=lr,\n",
    "    param_distributions=distributions,\n",
    "    # Optimize for mean absolute error\n",
    "    scoring=\"neg_mean_absolute_error\",\n",
    "    # Use 5-fold cross validation\n",
    "    cv=5,\n",
    "    # Try 100 samples. Note that MLflow only logs the top 5 runs.\n",
    "    n_iter=100,\n",
    ")\n",
    "\n",
    "# Start a parent run\n",
    "with mlflow.start_run(run_name=\"hyperparameter-tuning\"):\n",
    "    search = clf.fit(X_train, y_train)\n",
    "\n",
    "    # Evaluate the best model on test dataset\n",
    "    y_pred = clf.best_estimator_.predict(X_test)\n",
    "    rmse, mae, r2 = eval_metrics(y_pred, y_test)\n",
    "    mlflow.log_metrics(\n",
    "        {\n",
    "            \"mean_squared_error_X_test\": rmse,\n",
    "            \"mean_absolute_error_X_test\": mae,\n",
    "            \"r2_score_X_test\": r2,\n",
    "        }\n",
    "    )"
   ]
  }
 ],
 "metadata": {
  "kernelspec": {
   "display_name": "Python 3 (ipykernel)",
   "language": "python",
   "name": "python3"
  },
  "language_info": {
   "codemirror_mode": {
    "name": "ipython",
    "version": 3
   },
   "file_extension": ".py",
   "mimetype": "text/x-python",
   "name": "python",
   "nbconvert_exporter": "python",
   "pygments_lexer": "ipython3",
   "version": "3.12.9"
  }
 },
 "nbformat": 4,
 "nbformat_minor": 2
}
