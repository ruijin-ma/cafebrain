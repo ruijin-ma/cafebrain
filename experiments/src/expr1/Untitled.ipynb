{
 "cells": [
  {
   "cell_type": "code",
   "execution_count": 5,
   "id": "ea0e5a5e-f99b-4d5e-b85b-ccc1023af0b2",
   "metadata": {},
   "outputs": [],
   "source": [
    "from mlflow import MlflowClient\n",
    "from pprint import pprint\n",
    "from sklearn.ensemble import RandomForestRegressor"
   ]
  },
  {
   "cell_type": "code",
   "execution_count": 6,
   "id": "977e59e3-46fb-4e4e-aa90-751cb462878f",
   "metadata": {},
   "outputs": [],
   "source": [
    "client = MlflowClient(tracking_uri=\"http://127.0.0.1:8080\")"
   ]
  },
  {
   "cell_type": "code",
   "execution_count": 7,
   "id": "93e7c935-e9b2-4116-ba13-e187b93383a4",
   "metadata": {},
   "outputs": [
    {
     "ename": "MlflowException",
     "evalue": "API request to endpoint /api/2.0/mlflow/experiments/search failed with error code 404 != 200. Response body: '\n\n<!DOCTYPE html>\n<html lang=\"en\">\n  <head>\n    <title>Airflow 404</title>\n    <link rel=\"icon\" type=\"image/png\" href=\"/static/pin_32.png\">\n  </head>\n  <body>\n    <div style=\"font-family: verdana; text-align: center; margin-top: 200px;\">\n      <img src=\"/static/pin_100.png\" width=\"50px\" alt=\"pin-logo\" />\n      <h1>Airflow 404</h1>\n      <p>Page cannot be found.</p>\n      <a href=\"/\">Return to the main page</a>\n      <p></p>\n    </div>\n  </body>\n</html>'",
     "output_type": "error",
     "traceback": [
      "\u001b[31m---------------------------------------------------------------------------\u001b[39m",
      "\u001b[31mMlflowException\u001b[39m                           Traceback (most recent call last)",
      "\u001b[36mCell\u001b[39m\u001b[36m \u001b[39m\u001b[32mIn[7]\u001b[39m\u001b[32m, line 1\u001b[39m\n\u001b[32m----> \u001b[39m\u001b[32m1\u001b[39m all_experiments = \u001b[43mclient\u001b[49m\u001b[43m.\u001b[49m\u001b[43msearch_experiments\u001b[49m\u001b[43m(\u001b[49m\u001b[43m)\u001b[49m\n\u001b[32m      3\u001b[39m \u001b[38;5;28mprint\u001b[39m(all_experiments)\n",
      "\u001b[36mFile \u001b[39m\u001b[32m~/works/facility/src/cafebrain.ai/experiments/src/expr1/.venv/lib/python3.12/site-packages/mlflow/tracking/client.py:1250\u001b[39m, in \u001b[36mMlflowClient.search_experiments\u001b[39m\u001b[34m(self, view_type, max_results, filter_string, order_by, page_token)\u001b[39m\n\u001b[32m   1140\u001b[39m \u001b[38;5;28;01mdef\u001b[39;00m\u001b[38;5;250m \u001b[39m\u001b[34msearch_experiments\u001b[39m(\n\u001b[32m   1141\u001b[39m     \u001b[38;5;28mself\u001b[39m,\n\u001b[32m   1142\u001b[39m     view_type: \u001b[38;5;28mint\u001b[39m = ViewType.ACTIVE_ONLY,\n\u001b[32m   (...)\u001b[39m\u001b[32m   1146\u001b[39m     page_token=\u001b[38;5;28;01mNone\u001b[39;00m,\n\u001b[32m   1147\u001b[39m ) -> PagedList[Experiment]:\n\u001b[32m   1148\u001b[39m \u001b[38;5;250m    \u001b[39m\u001b[33;03m\"\"\"\u001b[39;00m\n\u001b[32m   1149\u001b[39m \u001b[33;03m    Search for experiments that match the specified search query.\u001b[39;00m\n\u001b[32m   1150\u001b[39m \n\u001b[32m   (...)\u001b[39m\u001b[32m   1248\u001b[39m \u001b[33;03m        assert_experiment_names_equal(experiments, [\"bb\", \"ab\", \"b\", \"a\"])\u001b[39;00m\n\u001b[32m   1249\u001b[39m \u001b[33;03m    \"\"\"\u001b[39;00m\n\u001b[32m-> \u001b[39m\u001b[32m1250\u001b[39m     \u001b[38;5;28;01mreturn\u001b[39;00m \u001b[38;5;28;43mself\u001b[39;49m\u001b[43m.\u001b[49m\u001b[43m_tracking_client\u001b[49m\u001b[43m.\u001b[49m\u001b[43msearch_experiments\u001b[49m\u001b[43m(\u001b[49m\n\u001b[32m   1251\u001b[39m \u001b[43m        \u001b[49m\u001b[43mview_type\u001b[49m\u001b[43m=\u001b[49m\u001b[43mview_type\u001b[49m\u001b[43m,\u001b[49m\n\u001b[32m   1252\u001b[39m \u001b[43m        \u001b[49m\u001b[43mmax_results\u001b[49m\u001b[43m=\u001b[49m\u001b[43mmax_results\u001b[49m\u001b[43m,\u001b[49m\n\u001b[32m   1253\u001b[39m \u001b[43m        \u001b[49m\u001b[43mfilter_string\u001b[49m\u001b[43m=\u001b[49m\u001b[43mfilter_string\u001b[49m\u001b[43m,\u001b[49m\n\u001b[32m   1254\u001b[39m \u001b[43m        \u001b[49m\u001b[43morder_by\u001b[49m\u001b[43m=\u001b[49m\u001b[43morder_by\u001b[49m\u001b[43m,\u001b[49m\n\u001b[32m   1255\u001b[39m \u001b[43m        \u001b[49m\u001b[43mpage_token\u001b[49m\u001b[43m=\u001b[49m\u001b[43mpage_token\u001b[49m\u001b[43m,\u001b[49m\n\u001b[32m   1256\u001b[39m \u001b[43m    \u001b[49m\u001b[43m)\u001b[49m\n",
      "\u001b[36mFile \u001b[39m\u001b[32m~/works/facility/src/cafebrain.ai/experiments/src/expr1/.venv/lib/python3.12/site-packages/mlflow/tracking/_tracking_service/client.py:560\u001b[39m, in \u001b[36mTrackingServiceClient.search_experiments\u001b[39m\u001b[34m(self, view_type, max_results, filter_string, order_by, page_token)\u001b[39m\n\u001b[32m    497\u001b[39m \u001b[38;5;28;01mdef\u001b[39;00m\u001b[38;5;250m \u001b[39m\u001b[34msearch_experiments\u001b[39m(\n\u001b[32m    498\u001b[39m     \u001b[38;5;28mself\u001b[39m,\n\u001b[32m    499\u001b[39m     view_type=ViewType.ACTIVE_ONLY,\n\u001b[32m   (...)\u001b[39m\u001b[32m    503\u001b[39m     page_token=\u001b[38;5;28;01mNone\u001b[39;00m,\n\u001b[32m    504\u001b[39m ):\n\u001b[32m    505\u001b[39m \u001b[38;5;250m    \u001b[39m\u001b[33;03m\"\"\"Search for experiments that match the specified search query.\u001b[39;00m\n\u001b[32m    506\u001b[39m \n\u001b[32m    507\u001b[39m \u001b[33;03m    Args:\u001b[39;00m\n\u001b[32m   (...)\u001b[39m\u001b[32m    558\u001b[39m \n\u001b[32m    559\u001b[39m \u001b[33;03m    \"\"\"\u001b[39;00m\n\u001b[32m--> \u001b[39m\u001b[32m560\u001b[39m     \u001b[38;5;28;01mreturn\u001b[39;00m \u001b[38;5;28;43mself\u001b[39;49m\u001b[43m.\u001b[49m\u001b[43mstore\u001b[49m\u001b[43m.\u001b[49m\u001b[43msearch_experiments\u001b[49m\u001b[43m(\u001b[49m\n\u001b[32m    561\u001b[39m \u001b[43m        \u001b[49m\u001b[43mview_type\u001b[49m\u001b[43m=\u001b[49m\u001b[43mview_type\u001b[49m\u001b[43m,\u001b[49m\n\u001b[32m    562\u001b[39m \u001b[43m        \u001b[49m\u001b[43mmax_results\u001b[49m\u001b[43m=\u001b[49m\u001b[43mmax_results\u001b[49m\u001b[43m,\u001b[49m\n\u001b[32m    563\u001b[39m \u001b[43m        \u001b[49m\u001b[43mfilter_string\u001b[49m\u001b[43m=\u001b[49m\u001b[43mfilter_string\u001b[49m\u001b[43m,\u001b[49m\n\u001b[32m    564\u001b[39m \u001b[43m        \u001b[49m\u001b[43morder_by\u001b[49m\u001b[43m=\u001b[49m\u001b[43morder_by\u001b[49m\u001b[43m,\u001b[49m\n\u001b[32m    565\u001b[39m \u001b[43m        \u001b[49m\u001b[43mpage_token\u001b[49m\u001b[43m=\u001b[49m\u001b[43mpage_token\u001b[49m\u001b[43m,\u001b[49m\n\u001b[32m    566\u001b[39m \u001b[43m    \u001b[49m\u001b[43m)\u001b[49m\n",
      "\u001b[36mFile \u001b[39m\u001b[32m~/works/facility/src/cafebrain.ai/experiments/src/expr1/.venv/lib/python3.12/site-packages/mlflow/store/tracking/rest_store.py:109\u001b[39m, in \u001b[36mRestStore.search_experiments\u001b[39m\u001b[34m(self, view_type, max_results, filter_string, order_by, page_token)\u001b[39m\n\u001b[32m     92\u001b[39m \u001b[38;5;28;01mdef\u001b[39;00m\u001b[38;5;250m \u001b[39m\u001b[34msearch_experiments\u001b[39m(\n\u001b[32m     93\u001b[39m     \u001b[38;5;28mself\u001b[39m,\n\u001b[32m     94\u001b[39m     view_type=ViewType.ACTIVE_ONLY,\n\u001b[32m   (...)\u001b[39m\u001b[32m     98\u001b[39m     page_token=\u001b[38;5;28;01mNone\u001b[39;00m,\n\u001b[32m     99\u001b[39m ):\n\u001b[32m    100\u001b[39m     req_body = message_to_json(\n\u001b[32m    101\u001b[39m         SearchExperiments(\n\u001b[32m    102\u001b[39m             view_type=view_type,\n\u001b[32m   (...)\u001b[39m\u001b[32m    107\u001b[39m         )\n\u001b[32m    108\u001b[39m     )\n\u001b[32m--> \u001b[39m\u001b[32m109\u001b[39m     response_proto = \u001b[38;5;28;43mself\u001b[39;49m\u001b[43m.\u001b[49m\u001b[43m_call_endpoint\u001b[49m\u001b[43m(\u001b[49m\u001b[43mSearchExperiments\u001b[49m\u001b[43m,\u001b[49m\u001b[43m \u001b[49m\u001b[43mreq_body\u001b[49m\u001b[43m)\u001b[49m\n\u001b[32m    110\u001b[39m     experiments = [Experiment.from_proto(x) \u001b[38;5;28;01mfor\u001b[39;00m x \u001b[38;5;129;01min\u001b[39;00m response_proto.experiments]\n\u001b[32m    111\u001b[39m     token = (\n\u001b[32m    112\u001b[39m         response_proto.next_page_token \u001b[38;5;28;01mif\u001b[39;00m response_proto.HasField(\u001b[33m\"\u001b[39m\u001b[33mnext_page_token\u001b[39m\u001b[33m\"\u001b[39m) \u001b[38;5;28;01melse\u001b[39;00m \u001b[38;5;28;01mNone\u001b[39;00m\n\u001b[32m    113\u001b[39m     )\n",
      "\u001b[36mFile \u001b[39m\u001b[32m~/works/facility/src/cafebrain.ai/experiments/src/expr1/.venv/lib/python3.12/site-packages/mlflow/store/tracking/rest_store.py:90\u001b[39m, in \u001b[36mRestStore._call_endpoint\u001b[39m\u001b[34m(self, api, json_body, endpoint)\u001b[39m\n\u001b[32m     88\u001b[39m     endpoint, method = _METHOD_TO_INFO[api]\n\u001b[32m     89\u001b[39m response_proto = api.Response()\n\u001b[32m---> \u001b[39m\u001b[32m90\u001b[39m \u001b[38;5;28;01mreturn\u001b[39;00m \u001b[43mcall_endpoint\u001b[49m\u001b[43m(\u001b[49m\u001b[38;5;28;43mself\u001b[39;49m\u001b[43m.\u001b[49m\u001b[43mget_host_creds\u001b[49m\u001b[43m(\u001b[49m\u001b[43m)\u001b[49m\u001b[43m,\u001b[49m\u001b[43m \u001b[49m\u001b[43mendpoint\u001b[49m\u001b[43m,\u001b[49m\u001b[43m \u001b[49m\u001b[43mmethod\u001b[49m\u001b[43m,\u001b[49m\u001b[43m \u001b[49m\u001b[43mjson_body\u001b[49m\u001b[43m,\u001b[49m\u001b[43m \u001b[49m\u001b[43mresponse_proto\u001b[49m\u001b[43m)\u001b[49m\n",
      "\u001b[36mFile \u001b[39m\u001b[32m~/works/facility/src/cafebrain.ai/experiments/src/expr1/.venv/lib/python3.12/site-packages/mlflow/utils/rest_utils.py:392\u001b[39m, in \u001b[36mcall_endpoint\u001b[39m\u001b[34m(host_creds, endpoint, method, json_body, response_proto, extra_headers)\u001b[39m\n\u001b[32m    389\u001b[39m     call_kwargs[\u001b[33m\"\u001b[39m\u001b[33mjson\u001b[39m\u001b[33m\"\u001b[39m] = json_body\n\u001b[32m    390\u001b[39m     response = http_request(**call_kwargs)\n\u001b[32m--> \u001b[39m\u001b[32m392\u001b[39m response = \u001b[43mverify_rest_response\u001b[49m\u001b[43m(\u001b[49m\u001b[43mresponse\u001b[49m\u001b[43m,\u001b[49m\u001b[43m \u001b[49m\u001b[43mendpoint\u001b[49m\u001b[43m)\u001b[49m\n\u001b[32m    393\u001b[39m response_to_parse = response.text\n\u001b[32m    394\u001b[39m js_dict = json.loads(response_to_parse)\n",
      "\u001b[36mFile \u001b[39m\u001b[32m~/works/facility/src/cafebrain.ai/experiments/src/expr1/.venv/lib/python3.12/site-packages/mlflow/utils/rest_utils.py:255\u001b[39m, in \u001b[36mverify_rest_response\u001b[39m\u001b[34m(response, endpoint)\u001b[39m\n\u001b[32m    250\u001b[39m     \u001b[38;5;28;01melse\u001b[39;00m:\n\u001b[32m    251\u001b[39m         base_msg = (\n\u001b[32m    252\u001b[39m             \u001b[33mf\u001b[39m\u001b[33m\"\u001b[39m\u001b[33mAPI request to endpoint \u001b[39m\u001b[38;5;132;01m{\u001b[39;00mendpoint\u001b[38;5;132;01m}\u001b[39;00m\u001b[33m \u001b[39m\u001b[33m\"\u001b[39m\n\u001b[32m    253\u001b[39m             \u001b[33mf\u001b[39m\u001b[33m\"\u001b[39m\u001b[33mfailed with error code \u001b[39m\u001b[38;5;132;01m{\u001b[39;00mresponse.status_code\u001b[38;5;132;01m}\u001b[39;00m\u001b[33m != 200\u001b[39m\u001b[33m\"\u001b[39m\n\u001b[32m    254\u001b[39m         )\n\u001b[32m--> \u001b[39m\u001b[32m255\u001b[39m         \u001b[38;5;28;01mraise\u001b[39;00m MlflowException(\n\u001b[32m    256\u001b[39m             \u001b[33mf\u001b[39m\u001b[33m\"\u001b[39m\u001b[38;5;132;01m{\u001b[39;00mbase_msg\u001b[38;5;132;01m}\u001b[39;00m\u001b[33m. Response body: \u001b[39m\u001b[33m'\u001b[39m\u001b[38;5;132;01m{\u001b[39;00mresponse.text\u001b[38;5;132;01m}\u001b[39;00m\u001b[33m'\u001b[39m\u001b[33m\"\u001b[39m,\n\u001b[32m    257\u001b[39m             error_code=get_error_code(response.status_code),\n\u001b[32m    258\u001b[39m         )\n\u001b[32m    260\u001b[39m \u001b[38;5;66;03m# Skip validation for endpoints (e.g. DBFS file-download API) which may return a non-JSON\u001b[39;00m\n\u001b[32m    261\u001b[39m \u001b[38;5;66;03m# response\u001b[39;00m\n\u001b[32m    262\u001b[39m \u001b[38;5;28;01mif\u001b[39;00m endpoint.startswith(_REST_API_PATH_PREFIX) \u001b[38;5;129;01mand\u001b[39;00m \u001b[38;5;129;01mnot\u001b[39;00m _can_parse_as_json_object(response.text):\n",
      "\u001b[31mMlflowException\u001b[39m: API request to endpoint /api/2.0/mlflow/experiments/search failed with error code 404 != 200. Response body: '\n\n<!DOCTYPE html>\n<html lang=\"en\">\n  <head>\n    <title>Airflow 404</title>\n    <link rel=\"icon\" type=\"image/png\" href=\"/static/pin_32.png\">\n  </head>\n  <body>\n    <div style=\"font-family: verdana; text-align: center; margin-top: 200px;\">\n      <img src=\"/static/pin_100.png\" width=\"50px\" alt=\"pin-logo\" />\n      <h1>Airflow 404</h1>\n      <p>Page cannot be found.</p>\n      <a href=\"/\">Return to the main page</a>\n      <p></p>\n    </div>\n  </body>\n</html>'"
     ]
    }
   ],
   "source": [
    "all_experiments = client.search_experiments()\n",
    "\n",
    "print(all_experiments)"
   ]
  },
  {
   "cell_type": "code",
   "execution_count": null,
   "id": "09aec0bb-4d72-49ae-ab05-65d6b5236368",
   "metadata": {},
   "outputs": [],
   "source": []
  }
 ],
 "metadata": {
  "kernelspec": {
   "display_name": "Python 3 (ipykernel)",
   "language": "python",
   "name": "python3"
  },
  "language_info": {
   "codemirror_mode": {
    "name": "ipython",
    "version": 3
   },
   "file_extension": ".py",
   "mimetype": "text/x-python",
   "name": "python",
   "nbconvert_exporter": "python",
   "pygments_lexer": "ipython3",
   "version": "3.12.9"
  }
 },
 "nbformat": 4,
 "nbformat_minor": 5
}
